{
 "cells": [
  {
   "cell_type": "code",
   "execution_count": 2,
   "id": "99ab8805",
   "metadata": {},
   "outputs": [
    {
     "name": "stdout",
     "output_type": "stream",
     "text": [
      "Select operation:\n",
      "1. Add\n",
      "2. Subtract\n",
      "3. Multiply\n",
      "4. Divide\n",
      "Enter choice (1/2/3/4): 3\n",
      "\n",
      "Enter first number: 987.6543210\n",
      "\n",
      "Enter second number: 123.4567890\n",
      "\n",
      "Result of Multiplication: 121932.631\n"
     ]
    }
   ],
   "source": [
    "def calculator():\n",
    "    # Display the menu for operations\n",
    "    print(\"Select operation:\")\n",
    "    print(\"1. Add\")\n",
    "    print(\"2. Subtract\")\n",
    "    print(\"3. Multiply\")\n",
    "    print(\"4. Divide\")\n",
    "    \n",
    "    # Get user input for operation choice\n",
    "    choice = input(\"Enter choice (1/2/3/4): \")\n",
    "    \n",
    "    # Check if the choice is valid\n",
    "    if choice in ['1', '2', '3', '4']:\n",
    "        # Get user input for numbers\n",
    "        num1 = float(input(\"\\nEnter first number: \"))\n",
    "        num2 = float(input(\"\\nEnter second number: \"))\n",
    "        \n",
    "        # Perform the chosen operation\n",
    "        if choice == '1':\n",
    "            result = num1 + num2\n",
    "            operation = \"Addition\"\n",
    "        elif choice == '2':\n",
    "            result = num1 - num2\n",
    "            operation = \"Subtraction\"\n",
    "        elif choice == '3':\n",
    "            result = num1 * num2\n",
    "            operation = \"Multiplication\"\n",
    "        elif choice == '4':\n",
    "            # Handle division by zero\n",
    "            if num2 == 0:\n",
    "                print(\"Error: Division by zero is not allowed.\")\n",
    "                return\n",
    "            result = num1 / num2\n",
    "            operation = \"Division\"\n",
    "        \n",
    "        # Display the result\n",
    "        print(f\"\\nResult of {operation}: {result:.3f}\")\n",
    "    else:\n",
    "        print(\"\\nInvalid input\")\n",
    "\n",
    "# Run the calculator function\n",
    "calculator()\n"
   ]
  }
 ],
 "metadata": {
  "kernelspec": {
   "display_name": "Python 3 (ipykernel)",
   "language": "python",
   "name": "python3"
  },
  "language_info": {
   "codemirror_mode": {
    "name": "ipython",
    "version": 3
   },
   "file_extension": ".py",
   "mimetype": "text/x-python",
   "name": "python",
   "nbconvert_exporter": "python",
   "pygments_lexer": "ipython3",
   "version": "3.11.5"
  }
 },
 "nbformat": 4,
 "nbformat_minor": 5
}
